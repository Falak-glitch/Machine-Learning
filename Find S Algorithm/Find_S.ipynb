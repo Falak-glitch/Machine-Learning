{
  "nbformat": 4,
  "nbformat_minor": 0,
  "metadata": {
    "colab": {
      "name": "LAB1_Find_S.ipynb",
      "provenance": [],
      "collapsed_sections": [],
      "authorship_tag": "ABX9TyOXA4E+wM/AmjQS/5Jrgpvh",
      "include_colab_link": true
    },
    "kernelspec": {
      "name": "python3",
      "display_name": "Python 3"
    },
    "language_info": {
      "name": "python"
    }
  },
  "cells": [
    {
      "cell_type": "markdown",
      "metadata": {
        "id": "view-in-github",
        "colab_type": "text"
      },
      "source": [
        "<a href=\"https://colab.research.google.com/github/Falak-glitch/Machine-Learning/blob/main/Find_S.ipynb\" target=\"_parent\"><img src=\"https://colab.research.google.com/assets/colab-badge.svg\" alt=\"Open In Colab\"/></a>"
      ]
    },
    {
      "cell_type": "markdown",
      "metadata": {
        "id": "rLhjUsQsl-YU"
      },
      "source": [
        "EnjoySport"
      ]
    },
    {
      "cell_type": "code",
      "metadata": {
        "colab": {
          "base_uri": "https://localhost:8080/"
        },
        "id": "h1t8AXZzheis",
        "outputId": "099c58c5-b717-488d-b2d4-ff966ef00d08"
      },
      "source": [
        "import random \n",
        "import csv \n",
        "\n",
        "attr = [['Sunny','Rainy'], \n",
        "              ['Warm','Cold'], \n",
        "              ['Normal','High'], \n",
        "              ['Strong','Weak'], \n",
        "              ['Warm','Cool'], \n",
        "              ['Same','Change']] \n",
        "\n",
        "num_attr = len(attr) \n",
        "\n",
        "print (\" \\n The most general hypothesis : ['?','?','?','?','?','?']\\n\") \n",
        "print (\"\\n The most specific hypothesis : ['Phi','Phi','Phi','Phi','Phi','Phi']\\n\") "
      ],
      "execution_count": 1,
      "outputs": [
        {
          "output_type": "stream",
          "name": "stdout",
          "text": [
            " \n",
            " The most general hypothesis : ['?','?','?','?','?','?']\n",
            "\n",
            "\n",
            " The most specific hypothesis : ['Phi','Phi','Phi','Phi','Phi','Phi']\n",
            "\n"
          ]
        }
      ]
    },
    {
      "cell_type": "code",
      "metadata": {
        "colab": {
          "base_uri": "https://localhost:8080/"
        },
        "id": "oKX8KFO6joYc",
        "outputId": "4be06da5-2cb2-4321-a32a-d4e4347d38f6"
      },
      "source": [
        "a = [] \n",
        "\n",
        "print(\"\\n The Given Training Data Set \\n\") \n",
        "with open('EnjoySport.csv', 'r') as csvFile: \n",
        "    reader = csv.reader(csvFile) \n",
        "    for row in reader: \n",
        "        a.append (row) \n",
        "        print(row) "
      ],
      "execution_count": 5,
      "outputs": [
        {
          "output_type": "stream",
          "name": "stdout",
          "text": [
            "\n",
            " The Given Training Data Set \n",
            "\n",
            "['Sunny', 'Warm', 'Normal', 'Strong', 'Warm', 'Same', 'Yes']\n",
            "['Sunny', 'Warm', 'High', 'Strong', 'Warm', 'Same', 'Yes']\n",
            "['Rainy', 'Cold', 'High', 'Strong', 'Warm', 'Change', 'No']\n",
            "['Sunny', 'Warm', 'High', 'Strong', 'Cool', 'Change', 'Yes']\n"
          ]
        }
      ]
    },
    {
      "cell_type": "code",
      "metadata": {
        "colab": {
          "base_uri": "https://localhost:8080/"
        },
        "id": "eVM6KI-DjyoI",
        "outputId": "544ca92a-cc38-4dd5-e154-b4e03d7034bc"
      },
      "source": [
        "print(\"The initial value of hypothesis: \") \n",
        "hypothesis = ['Phi'] * num_attr \n",
        "print(hypothesis) "
      ],
      "execution_count": 6,
      "outputs": [
        {
          "output_type": "stream",
          "name": "stdout",
          "text": [
            "The initial value of hypothesis: \n",
            "['Phi', 'Phi', 'Phi', 'Phi', 'Phi', 'Phi']\n"
          ]
        }
      ]
    },
    {
      "cell_type": "code",
      "metadata": {
        "colab": {
          "base_uri": "https://localhost:8080/"
        },
        "id": "1nNYaqQsk0uC",
        "outputId": "c0d53201-bef3-4881-f3e2-f83c944f2b4c"
      },
      "source": [
        "for j in range(0,num_attr): \n",
        "        hypothesis[j] = a[0][j]; \n",
        "print(\"\\n Find S: Finding a Maximally Specific Hypothesis\\n\") \n",
        "\n",
        "for i in range(0,len(a)): \n",
        "    if a[i][num_attr]=='Yes': \n",
        "            for j in range(0,num_attr): \n",
        "                if a[i][j]!=hypothesis[j]: \n",
        "                    hypothesis[j]='?' \n",
        "                else : \n",
        "\n",
        "                    hypothesis[j]= a[i][j]  \n",
        "\n",
        "print(\" For Training Example No :{0} the hypothesis is \".format(i),hypothesis) \n",
        "print(\"\\n The Maximally Specific Hypothesis for a given Training Examples :\\n\") \n",
        "print(hypothesis)"
      ],
      "execution_count": 9,
      "outputs": [
        {
          "output_type": "stream",
          "name": "stdout",
          "text": [
            "\n",
            " Find S: Finding a Maximally Specific Hypothesis\n",
            "\n",
            " For Training Example No :3 the hypothesis is  ['Sunny', 'Warm', '?', 'Strong', '?', '?']\n",
            "\n",
            " The Maximally Specific Hypothesis for a given Training Examples :\n",
            "\n",
            "['Sunny', 'Warm', '?', 'Strong', '?', '?']\n"
          ]
        }
      ]
    },
    {
      "cell_type": "code",
      "metadata": {
        "id": "zSL6aC8olCfA"
      },
      "source": [
        ""
      ],
      "execution_count": 9,
      "outputs": []
    },
    {
      "cell_type": "markdown",
      "metadata": {
        "id": "hWQhuJpAmGiB"
      },
      "source": [
        "EconomyCar"
      ]
    },
    {
      "cell_type": "code",
      "metadata": {
        "colab": {
          "base_uri": "https://localhost:8080/"
        },
        "id": "Obts01xjmKGI",
        "outputId": "4918d29e-d313-42c5-eff6-d642a260ed55"
      },
      "source": [
        "import random \n",
        "import csv \n",
        "\n",
        "attr = [['Japan','USA'], \n",
        "              ['Toyota','Chrysler','Honda'], \n",
        "              ['Green','Blue','Red','White'], \n",
        "              ['1970','1980','1990'], \n",
        "              ['Sports','Economy']] \n",
        "\n",
        "num_attr = len(attr) \n",
        "\n",
        "print (\" \\n The most general hypothesis : ['?','?','?','?','?','?']\\n\") \n",
        "print (\"\\n The most specific hypothesis : ['Phi','Phi','Phi','Phi','Phi','Phi']\\n\") "
      ],
      "execution_count": 10,
      "outputs": [
        {
          "output_type": "stream",
          "name": "stdout",
          "text": [
            " \n",
            " The most general hypothesis : ['?','?','?','?','?','?']\n",
            "\n",
            "\n",
            " The most specific hypothesis : ['Phi','Phi','Phi','Phi','Phi','Phi']\n",
            "\n"
          ]
        }
      ]
    },
    {
      "cell_type": "code",
      "metadata": {
        "colab": {
          "base_uri": "https://localhost:8080/"
        },
        "id": "nEPqUoxVngY1",
        "outputId": "27f4737a-3506-4624-8dcb-a7cac4fe0d7d"
      },
      "source": [
        "a = [] \n",
        "\n",
        "print(\"\\n The Given Training Data Set \\n\") \n",
        "with open('EconomyCar.csv', 'r') as csvFile: \n",
        "    reader = csv.reader(csvFile) \n",
        "    for row in reader: \n",
        "        a.append (row) \n",
        "        print(row) "
      ],
      "execution_count": 13,
      "outputs": [
        {
          "output_type": "stream",
          "name": "stdout",
          "text": [
            "\n",
            " The Given Training Data Set \n",
            "\n",
            "['Japan ', 'Honda', 'Blue ', '1980', 'Economy', 'Yes']\n",
            "['Japan ', 'Toyota', 'Green', '1970', 'Sports', 'No']\n",
            "['Japan ', 'Toyota', 'Blue ', '1990', 'Economy', 'Yes']\n",
            "['USA', 'Chrysler', 'Red', '1980', 'Economy', 'No']\n",
            "['Japan ', 'Honda', 'White', '1980', 'Economy', 'Yes']\n"
          ]
        }
      ]
    },
    {
      "cell_type": "code",
      "metadata": {
        "colab": {
          "base_uri": "https://localhost:8080/"
        },
        "id": "oOynavaanjVv",
        "outputId": "0e5e3550-2a0a-4da9-fe48-fe4f2ec14ae1"
      },
      "source": [
        "print(\"The initial value of hypothesis: \") \n",
        "hypothesis = ['Phi'] * num_attr \n",
        "print(hypothesis) "
      ],
      "execution_count": 14,
      "outputs": [
        {
          "output_type": "stream",
          "name": "stdout",
          "text": [
            "The initial value of hypothesis: \n",
            "['Phi', 'Phi', 'Phi', 'Phi', 'Phi']\n"
          ]
        }
      ]
    },
    {
      "cell_type": "code",
      "metadata": {
        "colab": {
          "base_uri": "https://localhost:8080/"
        },
        "id": "EA-_5pwknwz-",
        "outputId": "46e8ae6e-a4bf-4b49-9d2f-ff9bd4cc4790"
      },
      "source": [
        "for j in range(0,num_attr): \n",
        "        hypothesis[j] = a[0][j]; \n",
        "print(\"\\n Find S: Finding a Maximally Specific Hypothesis\\n\") \n",
        "\n",
        "for i in range(0,len(a)): \n",
        "    if a[i][num_attr]=='Yes': \n",
        "            for j in range(0,num_attr): \n",
        "                if a[i][j]!=hypothesis[j]: \n",
        "                    hypothesis[j]='?' \n",
        "                else : \n",
        "\n",
        "                    hypothesis[j]= a[i][j]  \n",
        "\n",
        "print(\" For Training Example No :{0} the hypothesis is \".format(i),hypothesis) \n",
        "print(\"\\n The Maximally Specific Hypothesis for a given Training Examples :\\n\") \n",
        "print(hypothesis)"
      ],
      "execution_count": 15,
      "outputs": [
        {
          "output_type": "stream",
          "name": "stdout",
          "text": [
            "\n",
            " Find S: Finding a Maximally Specific Hypothesis\n",
            "\n",
            " For Training Example No :4 the hypothesis is  ['Japan ', '?', '?', '?', 'Economy']\n",
            "\n",
            " The Maximally Specific Hypothesis for a given Training Examples :\n",
            "\n",
            "['Japan ', '?', '?', '?', 'Economy']\n"
          ]
        }
      ]
    },
    {
      "cell_type": "code",
      "metadata": {
        "id": "OzEQBywinzLe"
      },
      "source": [
        ""
      ],
      "execution_count": null,
      "outputs": []
    }
  ]
}